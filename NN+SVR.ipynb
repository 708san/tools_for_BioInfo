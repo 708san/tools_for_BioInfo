{
 "cells": [
  {
   "cell_type": "code",
   "execution_count": 41,
   "id": "fac26e04-18ff-40a1-93ab-75ae864e377e",
   "metadata": {},
   "outputs": [],
   "source": [
    "import torch\n",
    "import torch.nn as nn\n",
    "import torch.optim as optim\n",
    "from sklearn.base import BaseEstimator, RegressorMixin\n",
    "\n",
    "from sklearn.metrics import make_scorer, mean_squared_error\n",
    "import numpy as np\n",
    "import pandas as pd\n",
    "from skorch import NeuralNetRegressor\n",
    "from sklearn.preprocessing import StandardScaler\n",
    "\n",
    "from torch.utils.data import DataLoader, TensorDataset\n",
    "\n",
    "import matplotlib.pyplot as plt\n",
    "\n",
    "import captum.attr as attr\n",
    "import seaborn as sns\n",
    "\n",
    "from scipy.stats import mannwhitneyu\n",
    "from sklearn.metrics import roc_auc_score\n",
    "\n",
    "from sklearn.metrics import mean_absolute_error\n",
    "import shap\n",
    "\n",
    "from sklearn.metrics import make_scorer, mean_squared_error\n",
    "\n",
    "from sklearn.metrics import r2_score"
   ]
  },
  {
   "cell_type": "code",
   "execution_count": 42,
   "id": "9bfe6903-55b6-40ff-91c1-5a7d050c6f17",
   "metadata": {},
   "outputs": [],
   "source": [
    "def filter_by_variance(data_name: pd.DataFrame, object: str, n: float) -> pd.DataFrame:\n",
    "    # exclude object\n",
    "    df_excluding_object = data_name.drop(columns=[object])\n",
    "    # calculate var\n",
    "    variance_values = df_excluding_object.var(axis=0)\n",
    "    # calculate threshold\n",
    "    threshold = np.percentile(variance_values, 100 - n)\n",
    "    # select columns\n",
    "    top_n_columns = variance_values[variance_values >= threshold].index.tolist()\n",
    "    # create df\n",
    "    new_df = data_name[top_n_columns + [object]]\n",
    "    return new_df"
   ]
  },
  {
   "cell_type": "code",
   "execution_count": 43,
   "id": "77eb78a9-f09f-4356-8657-43fbe33853f6",
   "metadata": {},
   "outputs": [],
   "source": [
    "class KernelSVRwithNN(nn.Module):\n",
    "    class EarlyStopping:\n",
    "        def __init__(self, patience=5, verbose=False):\n",
    "            self.patience = patience    \n",
    "            self.verbose = verbose     \n",
    "            self.counter = 0            \n",
    "            self.best_score = None     \n",
    "            self.early_stop = False    \n",
    "            self.val_loss_min = np.Inf   \n",
    "        \n",
    "        def __call__(self, val_loss, model):\n",
    "            score = -val_loss\n",
    "\n",
    "            if self.best_score is None: \n",
    "                self.best_score = score   \n",
    "                self.checkpoint(val_loss, model)  \n",
    "            elif score < self.best_score: \n",
    "                self.counter += 1   \n",
    "                if self.verbose:  \n",
    "                    print(f'EarlyStopping counter: {self.counter} out of {self.patience}')   \n",
    "                if self.counter >= self.patience: \n",
    "                    self.early_stop = True\n",
    "            else:  \n",
    "                self.best_score = score  \n",
    "                self.checkpoint(val_loss, model)  \n",
    "                self.counter = 0  \n",
    "\n",
    "        def checkpoint(self, val_loss, model):\n",
    "            \n",
    "            if self.verbose:  \n",
    "                print(f'Validation loss decreased ({self.val_loss_min:.6f} --> {val_loss:.6f}).  Saving model ...')\n",
    "            self.val_loss_min = val_loss  \n",
    "    def __init__(self, input_features, nn_layer_size, kernel_svr_features, \n",
    "                 train_data_x, epsilon,epochs,lr,l2_reg,kernel='rbf', gamma_init=1.0, train_gamma=True,):\n",
    "        super(KernelSVRwithNN, self).__init__()\n",
    "        self.l2_reg = l2_reg\n",
    "        # def NN\n",
    "        \n",
    "        self.nn_layers = nn.Sequential(\n",
    "            nn.Linear(input_features, nn_layer_size),\n",
    "            nn.BatchNorm1d(nn_layer_size),\n",
    "            nn.ReLU(),\n",
    "            \n",
    "            nn.Linear(nn_layer_size, kernel_svr_features)\n",
    "        )\n",
    "\n",
    "        # parameter Kernel SVR\n",
    "        self.kernel = kernel\n",
    "        self.train_data_x = train_data_x\n",
    "        if kernel == 'rbf':\n",
    "            self.gamma = torch.nn.Parameter(torch.FloatTensor([gamma_init]),\n",
    "                                         requires_grad=train_gamma)\n",
    "        else:\n",
    "            self.gamma = None  #linear\n",
    "\n",
    "        self.w = torch.nn.Linear(in_features=train_data_x.size(0) if kernel == 'rbf' else kernel_svr_features, out_features=1)\n",
    "        self.b = torch.nn.Parameter(torch.zeros(1))\n",
    "\n",
    "    def rbf(self, x):\n",
    "        y = self.nn_layers(self.train_data_x).repeat(x.size(0), 1, 1)  # embedding train_data_x via NN\n",
    "        return torch.exp(-self.gamma * ((x[:, None, :] - y) ** 2).sum(dim=2))\n",
    "\n",
    "\n",
    "    def linear(self, x):\n",
    "        return x\n",
    "\n",
    "    def kernel_func(self, x):\n",
    "        if self.kernel == 'rbf':\n",
    "            return self.rbf(x)\n",
    "        elif self.kernel == 'linear':\n",
    "            return self.linear(x)\n",
    "        else:\n",
    "            assert False, \"Invalid kernel type\"\n",
    "\n",
    "    def forward(self, x):\n",
    "        # NN\n",
    "        \n",
    "        x = self.nn_layers(x)\n",
    "\n",
    "        # Kernel SVR\n",
    "        x = self.kernel_func(x)\n",
    "        x = self.w(x) + self.b\n",
    "        return x\n",
    "\n",
    "    def fit(self, X, y, epsilon, lr, epochs,batch_size):\n",
    "        # epsilon-insensitive loss\n",
    "        earlystopping = self.EarlyStopping(patience=3, verbose=False)\n",
    "        loss_fn = lambda x, y: self.epsilon_loss(x, y, epsilon)\n",
    "        optimizer = torch.optim.RAdam(self.parameters(), lr=lr)\n",
    "\n",
    "        self.train() #train\n",
    "        epoch_loss_lis = []\n",
    "        for epoch in range(epochs):\n",
    "            running_loss=0.0\n",
    "            loss_lis = []\n",
    "            for batch_idx, (inputs, targets) in enumerate(DataLoader(TensorDataset(X, y), batch_size, shuffle=True)):\n",
    "                optimizer.zero_grad()\n",
    "                outputs = self(inputs)\n",
    "                loss = loss_fn(outputs, targets)\n",
    "                l2_loss = 0.0\n",
    "                for param in self.w.parameters():  # regularize self.w(SVR layer)\n",
    "                    l2_loss += torch.norm(param, 2)**2  # calculate L2norm\n",
    "                loss += self.l2_reg * l2_loss\n",
    "                loss_lis.append(loss.item())\n",
    "                loss.backward()\n",
    "                optimizer.step()\n",
    "                running_loss+=loss.item()\n",
    "            earlystopping((running_loss / batch_idx), self)\n",
    "            if earlystopping.early_stop: #if flag==True, break the for loop\n",
    "                break\n",
    "            avg_loss = sum(loss_lis) / len(loss_lis)\n",
    "            epoch_loss_lis.append(avg_loss)\n",
    "\n",
    "        self.eval()  # eval\n",
    "    def predict(self, X):\n",
    "        return self.forward(X)\n",
    "\n",
    "    def epsilon_loss(self, x, y, epsilon):\n",
    "        return torch.mean(torch.maximum(torch.abs(x - y) - epsilon, torch.zeros_like(y)))"
   ]
  },
  {
   "cell_type": "code",
   "execution_count": 44,
   "id": "87d817d1-2870-42c1-a690-b31064f2a2a6",
   "metadata": {},
   "outputs": [],
   "source": [
    "def read_cells(path_data,medicine_name):\n",
    "    df=pd.read_csv(path_data,index_col='rownames')\n",
    "    filtered_df=df[df[medicine_name].notna()]\n",
    "    if medicine_name in filtered_df.columns:\n",
    "        filtered_df = filtered_df.copy()\n",
    "    return filtered_df"
   ]
  },
  {
   "cell_type": "code",
   "execution_count": 45,
   "id": "5ff89b85-efe1-46f7-be16-cdabb8d8c966",
   "metadata": {},
   "outputs": [],
   "source": [
    "if torch.cuda.is_available():\n",
    "    d_type = \"cuda:0\"\n",
    "else:\n",
    "    d_type = \"cpu\"\n",
    "#2\n",
    "device = torch.device(d_type)"
   ]
  },
  {
   "cell_type": "code",
   "execution_count": 46,
   "id": "708f76f8-98f3-4148-8218-656c7e6e5fab",
   "metadata": {},
   "outputs": [],
   "source": [
    "drug_df=read_cells(\"../../Data/Bortezomib/bortezomib_train_cell.csv\",'Bortezomib')\n",
    "#drug_df=read_cells(\"../../../SVM_1/resource/bortezomib/bortezomib_cells.csv\",'Bortezomib')\n",
    "drug_df_var=filter_by_variance(drug_df,\"Bortezomib\", 100)"
   ]
  },
  {
   "cell_type": "code",
   "execution_count": 47,
   "id": "4a06408c-149d-4665-958f-712d0218a94d",
   "metadata": {},
   "outputs": [],
   "source": [
    "x_ = drug_df_var.drop(columns=['Bortezomib'])\n",
    "y = drug_df_var[['Bortezomib']]\n",
    "row=x_.shape[1]\n",
    "scaler = StandardScaler()\n",
    "x = scaler.fit_transform(x_)\n",
    "y=y.to_numpy().astype(\"float32\")"
   ]
  },
  {
   "cell_type": "code",
   "execution_count": 49,
   "id": "e73b3edf-203e-4025-8764-e8b9ec63bc55",
   "metadata": {},
   "outputs": [],
   "source": [
    "x_train = torch.tensor(x, dtype=torch.float32).to(device)\n",
    "y_train = torch.tensor(y, dtype=torch.float32).to(device)"
   ]
  },
  {
   "cell_type": "code",
   "execution_count": 51,
   "id": "610e5cb2-d70c-4aec-8087-19bfad3e5360",
   "metadata": {},
   "outputs": [],
   "source": [
    "test_df=read_cells(\"../../Data/Bortezomib/bortezomib_test_cell.csv\",'Bortezomib')\n",
    "X_test_original = test_df[drug_df_var.drop(\"Bortezomib\", axis=1).columns] #exclude feature \n",
    "X_test = scaler.transform(X_test_original) # StandardScaler\n",
    "y_test = test_df[\"Bortezomib\"].values\n",
    "X_test_tensor = torch.tensor(X_test, dtype=torch.float32).to(device)"
   ]
  },
  {
   "cell_type": "code",
   "execution_count": 111,
   "id": "d44f459f-125c-44b7-8602-ff59b8dcad30",
   "metadata": {},
   "outputs": [],
   "source": [
    "nn_layers= 1\n",
    "nn_layer_size=256\n",
    "kernel_svr_features=16\n",
    "kernel='rbf'\n",
    "epochs=10000\n",
    "epsilon= 0.1\n",
    "lr=0.0001\n",
    "batch_size=8\n",
    "l2_reg=10"
   ]
  },
  {
   "cell_type": "code",
   "execution_count": 117,
   "id": "ed91cfba-2581-4760-be0d-1f047d0cc6f0",
   "metadata": {},
   "outputs": [],
   "source": [
    "model_ = KernelSVRwithNN(row, nn_layer_size, kernel_svr_features,x_train,epsilon,epochs,lr,l2_reg)\n",
    "model=model_.to(device)"
   ]
  },
  {
   "cell_type": "code",
   "execution_count": 118,
   "id": "ab946b3f-8e32-48b5-aff8-f1775605b0d6",
   "metadata": {},
   "outputs": [],
   "source": [
    "model.fit(x_train, y_train, epsilon, lr, epochs,batch_size)"
   ]
  },
  {
   "cell_type": "code",
   "execution_count": 119,
   "id": "d8f128a0-d6b0-4235-aa81-82c8600470f7",
   "metadata": {},
   "outputs": [],
   "source": [
    "# predict\n",
    "with torch.no_grad():\n",
    "    y_pred_tensor = model(X_test_tensor)\n",
    "    y_pred=y_pred_tensor.to('cpu').numpy().flatten()"
   ]
  },
  {
   "cell_type": "code",
   "execution_count": 120,
   "id": "df369570-8e14-4931-b35a-7dcc7171a407",
   "metadata": {},
   "outputs": [
    {
     "name": "stdout",
     "output_type": "stream",
     "text": [
      "MAE: 0.7245645652744584\n",
      "MSE: 0.9026066014273392\n"
     ]
    }
   ],
   "source": [
    "mae = mean_absolute_error(y_test, y_pred)\n",
    "mse=mean_squared_error(y_test, y_pred)\n",
    "print(f\"MAE: {mae}\")\n",
    "print(f\"MSE: {mse}\")"
   ]
  },
  {
   "cell_type": "code",
   "execution_count": 121,
   "id": "2661b968-b811-47bf-bbc9-a0d929e9bfc9",
   "metadata": {},
   "outputs": [
    {
     "data": {
      "text/plain": [
       "0.06733340155842071"
      ]
     },
     "execution_count": 121,
     "metadata": {},
     "output_type": "execute_result"
    }
   ],
   "source": [
    "R2=r2_score(y_test, y_pred)\n",
    "R2"
   ]
  }
 ],
 "metadata": {
  "kernelspec": {
   "display_name": "Python 3 (ipykernel)",
   "language": "python",
   "name": "python3"
  },
  "language_info": {
   "codemirror_mode": {
    "name": "ipython",
    "version": 3
   },
   "file_extension": ".py",
   "mimetype": "text/x-python",
   "name": "python",
   "nbconvert_exporter": "python",
   "pygments_lexer": "ipython3",
   "version": "3.8.0"
  }
 },
 "nbformat": 4,
 "nbformat_minor": 5
}
